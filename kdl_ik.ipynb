{
 "cells": [
  {
   "cell_type": "code",
   "execution_count": 35,
   "metadata": {},
   "outputs": [
    {
     "name": "stdout",
     "output_type": "stream",
     "text": [
      "The root link base_link has an inertia specified in the URDF, but KDL does not support a root link with an inertia.  As a workaround, you can add an extra dummy link to your URDF.\n",
      "joints: 7, links: 11\n"
     ]
    }
   ],
   "source": [
    "import kdl_parser_py.urdf\n",
    "import PyKDL as kdl\n",
    "import numpy as np\n",
    "ok, tree = kdl_parser_py.urdf.treeFromFile(\"./urdf/stretch_iktut.urdf\")\n",
    "chain = tree.getChain(\"base_link\", \"link_grasp_center\")\n",
    "# ikvelsolver = kdl.ChainIkSolverVel_pinv(chain)\n",
    "print(f\"joints: {chain.getNrOfJoints()}, links: {chain.getNrOfSegments()}\")"
   ]
  },
  {
   "cell_type": "code",
   "execution_count": 57,
   "metadata": {},
   "outputs": [
    {
     "name": "stdout",
     "output_type": "stream",
     "text": [
      "           1 -3.67321e-06  2.77426e-11  2.77426e-11  2.77426e-11  2.77388e-11     0.111019\n",
      "           0 -3.67322e-06           -1           -1           -1           -1     0.172904\n",
      "           0            1 -7.34642e-06 -7.34642e-06 -7.34642e-06 -7.34642e-06  2.31314e-06\n",
      "           0            0            0            0            0            0 -3.67321e-06\n",
      "           0            0            0            0            0            0 -1.10196e-05\n",
      "           0            0            0            0            0            0            1\n",
      "[[ 1.     -0.      0.      0.      0.      0.      0.111 ]\n",
      " [ 0.     -0.     -1.     -1.     -1.     -1.      0.1729]\n",
      " [ 0.      1.     -0.     -0.     -0.     -0.      0.    ]\n",
      " [ 0.      0.      0.      0.      0.      0.     -0.    ]\n",
      " [ 0.      0.      0.      0.      0.      0.     -0.    ]\n",
      " [ 0.      0.      0.      0.      0.      0.      1.    ]]\n",
      "[[ 1.      0.      0.      0.      0.     -0.111 ]\n",
      " [ 0.     -0.      1.      0.      0.     -0.    ]\n",
      " [ 0.     -0.25   -0.     -0.     -0.      0.0432]\n",
      " [ 0.     -0.25   -0.     -0.     -0.      0.0432]\n",
      " [ 0.     -0.25   -0.     -0.     -0.      0.0432]\n",
      " [-0.     -0.25   -0.     -0.     -0.      0.0432]\n",
      " [ 0.     -0.     -0.     -0.     -0.      1.    ]]\n"
     ]
    }
   ],
   "source": [
    "# q_dot = kdl.JntArray(6)\n",
    "q = kdl.JntArray(7)\n",
    "for i, j in enumerate([0,1,0,0,0,1,1]):\n",
    "    q[i] = j\n",
    "jac_solver = kdl.ChainJntToJacSolver(chain)\n",
    "# t = kdl.Twist(\n",
    "#     kdl.Vector(1,1,1),\n",
    "#     kdl.Vector(0,0,0)\n",
    "# )\n",
    "# ikvelsolver.CartToJnt(q, t, q_dot)\n",
    "# q_dot\n",
    "J = kdl.Jacobian(7)\n",
    "jac_solver.JntToJac(q,J)\n",
    "print(J)\n",
    "J = np.array([[J[i,j] for j in range(J.columns())] for i in range(J.rows())])\n",
    "J_pinv = np.linalg.pinv(J)\n",
    "with np.printoptions(precision=4, suppress=True):\n",
    "    print(J)\n",
    "    print(J_pinv)"
   ]
  },
  {
   "cell_type": "code",
   "execution_count": null,
   "metadata": {},
   "outputs": [],
   "source": []
  }
 ],
 "metadata": {
  "kernelspec": {
   "display_name": "Python 3",
   "language": "python",
   "name": "python3"
  },
  "language_info": {
   "codemirror_mode": {
    "name": "ipython",
    "version": 3
   },
   "file_extension": ".py",
   "mimetype": "text/x-python",
   "name": "python",
   "nbconvert_exporter": "python",
   "pygments_lexer": "ipython3",
   "version": "3.8.10"
  },
  "orig_nbformat": 4
 },
 "nbformat": 4,
 "nbformat_minor": 2
}
