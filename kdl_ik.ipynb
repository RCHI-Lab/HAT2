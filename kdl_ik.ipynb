{
 "cells": [
  {
   "cell_type": "code",
   "execution_count": 1,
   "metadata": {},
   "outputs": [
    {
     "name": "stdout",
     "output_type": "stream",
     "text": [
      "The root link base_link has an inertia specified in the URDF, but KDL does not support a root link with an inertia.  As a workaround, you can add an extra dummy link to your URDF.\n",
      "joints: 8, links: 12\n"
     ]
    }
   ],
   "source": [
    "import kdl_parser_py.urdf\n",
    "import PyKDL as kdl\n",
    "import numpy as np\n",
    "\n",
    "ok, tree = kdl_parser_py.urdf.treeFromFile(\"./urdf/stretch_pruned.urdf\")\n",
    "chain = tree.getChain(\"base_link\", \"link_grasp_center\")\n",
    "print(f\"joints: {chain.getNrOfJoints()}, links: {chain.getNrOfSegments()}\")"
   ]
  },
  {
   "cell_type": "code",
   "execution_count": 19,
   "metadata": {},
   "outputs": [
    {
     "name": "stdout",
     "output_type": "stream",
     "text": [
      "           1      1.28793  1.10627e-06     0.841471     0.841471     0.841471     0.841471     0.111019\n",
      "           0      1.96626 -5.07554e-06    -0.540302    -0.540302    -0.540302    -0.540302     0.172904\n",
      "           0            0            1 -7.34642e-06 -7.34642e-06 -7.34642e-06 -7.34642e-06  7.54775e-07\n",
      "           0            0            0            0            0            0            0  7.28806e-06\n",
      "           0            0            0            0            0            0            0 -9.04483e-06\n",
      "           0            1            0            0            0            0            0            1\n",
      "[[ 1.      0.      0.      0.8415  0.8415  0.8415  0.8415  0.111 ]\n",
      " [ 0.      0.     -0.     -0.5403 -0.5403 -0.5403 -0.5403  0.1729]\n",
      " [ 0.      0.      1.     -0.     -0.     -0.     -0.      0.    ]\n",
      " [ 0.      0.      0.      0.      0.      0.      0.      0.    ]\n",
      " [ 0.      0.      0.      0.      0.      0.      0.     -0.    ]\n",
      " [ 0.      0.      0.      0.      0.      0.      0.      1.    ]]\n",
      "[[ 1.      1.5574  0.     -0.      0.     -0.3803]\n",
      " [ 0.      0.      0.      0.     -0.      0.    ]\n",
      " [ 0.     -0.      1.      0.     -0.      0.    ]\n",
      " [ 0.     -0.4627 -0.      0.     -0.      0.08  ]\n",
      " [ 0.     -0.4627 -0.      0.     -0.      0.08  ]\n",
      " [ 0.     -0.4627 -0.      0.     -0.      0.08  ]\n",
      " [-0.     -0.4627 -0.      0.     -0.      0.08  ]\n",
      " [-0.     -0.     -0.      0.     -0.      1.    ]]\n"
     ]
    }
   ],
   "source": [
    "def np_jacobian(J, fixed_joints=()):\n",
    "    return np.array([[J[i,j] if j not in fixed_joints else 0 for j in range(J.columns())] for i in range(J.rows())])\n",
    "\n",
    "q = kdl.JntArray(chain.getNrOfJoints())\n",
    "for i, j in enumerate([0,1,0,0,0,1,1,0]):\n",
    "    q[i] = j\n",
    "jac_solver = kdl.ChainJntToJacSolver(chain)\n",
    "J = kdl.Jacobian(chain.getNrOfJoints())\n",
    "jac_solver.JntToJac(q,J)\n",
    "print(J)\n",
    "# J = np.array([[J[i,j] if j!=1 else 0 for j in range(J.columns())] for i in range(J.rows())])\n",
    "# J = np.array([[J[i,j] for j in range(J.columns())] for i in range(J.rows())])\n",
    "J = np_jacobian(J, fixed_joints=(1,))\n",
    "J_pinv = np.linalg.pinv(J)\n",
    "with np.printoptions(precision=4, suppress=True, linewidth=100):\n",
    "    print(J)\n",
    "    print(J_pinv)"
   ]
  },
  {
   "cell_type": "code",
   "execution_count": null,
   "metadata": {},
   "outputs": [],
   "source": [
    "from __future__ import annotations\n",
    "import rospy\n",
    "from sensor_msgs.msg import JointState\n",
    "\n",
    "\n",
    "class joint_state_listener:\n",
    "    def __init__(self) -> None:\n",
    "        rospy.init_node(\"joint_state_listener\", anonymous=True)\n",
    "        rospy.Subscriber(\"/joint_states\", JointState, self.joint_state_cb)\n",
    "\n",
    "    def joint_state_cb(self, joint_states: JointState) -> None:\n",
    "        self.msg: JointState = joint_states\n",
    "\n",
    "    # publish rate is 50Hz in gazebo\n",
    "    def get_latest_pos(self) -> tuple[rospy.Duration, tuple]:\n",
    "        duration: rospy.Duration = rospy.get_rostime() - self.msg.header.stamp\n",
    "        # name: - joint_arm_l0 - joint_arm_l1 - joint_arm_l2 - joint_arm_l3 - joint_gripper_finger_left\n",
    "        #   - joint_gripper_finger_right - joint_head_pan - joint_head_tilt - joint_left_wheel\n",
    "        #   - joint_lift - joint_right_wheel - joint_wrist_yaw\n",
    "        q_modified = (\n",
    "            0.0,\n",
    "            0.0,\n",
    "            0.0,\n",
    "            0.0,\n",
    "            self.msg.position[self.msg.name.index(\"joint_lift\")],\n",
    "            0.0,\n",
    "            self.msg.position[self.msg.name.index(\"joint_arm_l3\")],\n",
    "            self.msg.position[self.msg.name.index(\"joint_arm_l2\")],\n",
    "            self.msg.position[self.msg.name.index(\"joint_arm_l1\")],\n",
    "            self.msg.position[self.msg.name.index(\"joint_arm_l0\")],\n",
    "            self.msg.position[self.msg.name.index(\"joint_wrist_yaw\")],\n",
    "            0.0,\n",
    "            0.0,\n",
    "        )\n",
    "        return duration, q_modified\n",
    "\n",
    "\n",
    "JointStateListener = joint_state_listener()"
   ]
  }
 ],
 "metadata": {
  "kernelspec": {
   "display_name": "Python 3",
   "language": "python",
   "name": "python3"
  },
  "language_info": {
   "codemirror_mode": {
    "name": "ipython",
    "version": 3
   },
   "file_extension": ".py",
   "mimetype": "text/x-python",
   "name": "python",
   "nbconvert_exporter": "python",
   "pygments_lexer": "ipython3",
   "version": "3.8.10"
  },
  "orig_nbformat": 4
 },
 "nbformat": 4,
 "nbformat_minor": 2
}
